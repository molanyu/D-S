{
 "cells": [
  {
   "cell_type": "code",
   "execution_count": 1,
   "metadata": {},
   "outputs": [],
   "source": [
    "import itertools\n",
    "import numpy as np \n",
    "import pandas as pd \n",
    "from collections import defaultdict"
   ]
  },
  {
   "cell_type": "code",
   "execution_count": 2,
   "metadata": {},
   "outputs": [
    {
     "name": "stderr",
     "output_type": "stream",
     "text": [
      "C:\\Users\\admin\\anaconda3\\envs\\math_model\\lib\\site-packages\\IPython\\core\\interactiveshell.py:3441: FutureWarning: In a future version of pandas all arguments of read_csv except for the argument 'filepath_or_buffer' will be keyword-only\n",
      "  exec(code_obj, self.user_global_ns, self.user_ns)\n"
     ]
    }
   ],
   "source": [
    "df=pd.read_csv('1.csv',' ')\n",
    "data=np.array(df)"
   ]
  },
  {
   "cell_type": "code",
   "execution_count": 3,
   "metadata": {},
   "outputs": [],
   "source": [
    "#定义 Shapley 类\n",
    "class Shapley:\n",
    "    #输入的初始化数据应该为一个pd.df数据框，和元素数n\n",
    "    def __init__(self,data:pd.DataFrame, n:int,cowName='uH') -> None:\n",
    "        self.dataFrame = data\n",
    "        self.n = n\n",
    "        self.N = np.math.factorial(n)\n",
    "        #调用初始化函数\n",
    "        self.initElementSet()\n",
    "        self.initSubsets()\n",
    "        self.initDict(cowName)\n",
    "\n",
    "####################################################################工具函数##########################################################   \n",
    "    #返回全部子集\n",
    "    #例子 \n",
    "    #输入 s = ['m1','m2']\n",
    "    #返回 ['m1','m2','m1,m2']\n",
    "    def getSubsets(self,s):\n",
    "\n",
    "        if len(s)==1:\n",
    "            return s\n",
    "        else:\n",
    "            sub=[]\n",
    "            for i in range(1,len(s)+1):\n",
    "                sub.extend(map(list,itertools.combinations(s, i)))\n",
    "        return list(map(\",\".join,map(sorted,sub)))\n",
    "\n",
    "    #输入一个全排列结合以及对应的m1,返回一个m1出现的排列H1和去除m1的H1\n",
    "    #例子\n",
    "    #输入top_set = ['m1','m2','m1,m2'], m1='m1'\n",
    "    #返回   [['m1',''],\n",
    "    #       ['m1,m2','m2']]\n",
    "    def uH_and_uH_without_m1(self,top_set,m1):\n",
    "        answer = []\n",
    "        for  subSet in top_set:\n",
    "            if m1 in subSet:\n",
    "                parent = subSet\n",
    "                #清除m1的文本内容\n",
    "                subSet=subSet.replace(m1+',','')\n",
    "                subSet=subSet.replace(','+m1,'')\n",
    "                subSet=subSet.replace(m1,'')\n",
    "                child = subSet\n",
    "                #加入到列表answer\n",
    "                answer.append([parent,child])\n",
    "        return answer\n",
    "\n",
    "    #获取权重,输入一个子列表，自动生成权重\n",
    "    def get_W(self, dubSet) ->int : \n",
    "\n",
    "        if dubSet == ['']:\n",
    "            H = 0\n",
    "        else:\n",
    "            H = len(dubSet)    \n",
    "        #计算权重\n",
    "        W = np.math.factorial(H)*(np.math.factorial(self.n-H-1)) / np.math.factorial(self.n)\n",
    "        return W\n",
    "\n",
    "#####################################################初始化函数###################################################\n",
    "    #初始贡献联盟字典\n",
    "    def initDict(self,cowName):\n",
    "        temp=dict(self.dataFrame[cowName])\n",
    "        self.dataDict = defaultdict(int)\n",
    "        self.dataDict.update(temp)\n",
    "    \n",
    "    #初始化元素集\n",
    "    def initElementSet(self):\n",
    "        self.elementSet = self.dataFrame.index[0:self.n]\n",
    "\n",
    "    #初始化子集列表\n",
    "    def initSubsets(self):\n",
    "        index = self.elementSet\n",
    "        self.subSets=self.getSubsets(index)\n",
    "\n",
    "        \n",
    "#####################################################计算函数####################################################\n",
    "    #获取单个元素的Shapley值\n",
    "    def getOneShapley(self,m_i):\n",
    "        #提取出现m_i的子集和对应的排除m_i的子集\n",
    "        m1=self.uH_and_uH_without_m1(self.dataDict,m_i)\n",
    "        temp = 0\n",
    "        #计算边际值\n",
    "        for i in m1:\n",
    "            a= self.dataDict[i[0]] -  self.dataDict[i[1]]\n",
    "            list1 = i[1].split(',')\n",
    "            a= self.get_W(list1) * a\n",
    "            temp += a\n",
    "        return(temp)\n",
    "\n",
    "    def getAllShapley(self):\n",
    "        self.shapleyValue = {}\n",
    "        for i in self.elementSet:\n",
    "            self.shapleyValue[i] = self.getOneShapley(i)\n",
    "\n",
    "    \n",
    "\n",
    "    \n",
    "        \n",
    "    "
   ]
  },
  {
   "cell_type": "code",
   "execution_count": 4,
   "metadata": {},
   "outputs": [],
   "source": [
    "newSh = Shapley(df,3)"
   ]
  },
  {
   "cell_type": "code",
   "execution_count": 5,
   "metadata": {},
   "outputs": [
    {
     "data": {
      "text/plain": [
       "{'m1': 1.7813666666666665, 'm2': 0.1055166666666667, 'm3': 0.11281666666666676}"
      ]
     },
     "execution_count": 5,
     "metadata": {},
     "output_type": "execute_result"
    }
   ],
   "source": [
    "newSh.getAllShapley()\n",
    "newSh.shapleyValue"
   ]
  }
 ],
 "metadata": {
  "interpreter": {
   "hash": "ef7f9a8012d9131766e31894c279374cc63c73121ed4db3b9e67a294a4bf0e74"
  },
  "kernelspec": {
   "display_name": "Python 3.8.5 64-bit ('base': conda)",
   "language": "python",
   "name": "python3"
  },
  "language_info": {
   "codemirror_mode": {
    "name": "ipython",
    "version": 3
   },
   "file_extension": ".py",
   "mimetype": "text/x-python",
   "name": "python",
   "nbconvert_exporter": "python",
   "pygments_lexer": "ipython3",
   "version": "3.8.11"
  },
  "orig_nbformat": 4
 },
 "nbformat": 4,
 "nbformat_minor": 2
}
